{
 "cells": [
  {
   "cell_type": "code",
   "execution_count": 1,
   "metadata": {},
   "outputs": [],
   "source": [
    "%matplotlib notebook\n",
    "# % cd /content/emergence-of-writing-systems\n",
    "import warnings\n",
    "with warnings.catch_warnings():\n",
    "    warnings.filterwarnings(\"ignore\",category=FutureWarning)\n",
    "    \n",
    "    from game import Game\n",
    "    from data_preprocess import get_data_points, get_dummy_data\n",
    "#     from utils import get_feature_extractor_model, get_features, message_to_image, message_to_image_sm\n",
    "    from agents import get_agents\n",
    "    \n",
    "    import numpy as np\n",
    "    import matplotlib.pyplot as plt\n",
    "from sklearn.datasets import make_classification, make_blobs"
   ]
  },
  {
   "cell_type": "code",
   "execution_count": 2,
   "metadata": {},
   "outputs": [],
   "source": [
    "%load_ext autoreload\n",
    "%autoreload 2"
   ]
  },
  {
   "cell_type": "code",
   "execution_count": 3,
   "metadata": {},
   "outputs": [],
   "source": [
    "\n",
    "sender_type = \"aware\"\n",
    "\n",
    "n_features = 3\n",
    "n_clusters = 5\n",
    "n_samples = 3\n",
    "n_vocab = 5\n",
    "\n",
    "n_batches = 10\n",
    "n_epochs = 1000000\n",
    "\n",
    "n_all_features = 512\n",
    "\n",
    "max_len = 2\n",
    "\n",
    "img_dim = 0\n",
    "img_rows = 0\n",
    "img_cols = 0\n",
    "img_features_len = 1\n",
    "\n",
    "n_batches = 128\n",
    "n_epochs = 10000000\n",
    "action_size = 1\n",
    "num_actions = n_vocab\n",
    "\n",
    "n_population = 4\n",
    "\n",
    "ppo_config = \"configs/ppo-new.json\"\n",
    "network_config = \"configs/mlp3_network-200.json\"\n",
    "data_csv_path = \"data_csvs/cifar_feats.csv\"\n",
    "feat_model_path = 'feature_extractors/feature_model.h5'\n",
    "feature_model_json_path = 'feature_extractors/feature_model.json'\n",
    "\n",
    "flip_s = False\n",
    "flip_l = False\n",
    "freq = 1\n",
    "debug = True\n",
    "\n",
    "# !cp /content/emergence-of-writing-systems/core-agent.py /usr/local/lib/python3.6/dist-packages/tensorforce/agents/agent.py "
   ]
  },
  {
   "cell_type": "code",
   "execution_count": 5,
   "metadata": {},
   "outputs": [
    {
     "name": "stderr",
     "output_type": "stream",
     "text": [
      "/usr/local/lib/python3.6/dist-packages/sklearn/utils/validation.py:71: FutureWarning: Pass centers=5 as keyword args. From version 0.25 passing these as positional arguments will result in an error\n",
      "  FutureWarning)\n"
     ]
    },
    {
     "name": "stdout",
     "output_type": "stream",
     "text": [
      "(10000, 3) (10000,) (3000, 3) (10000,)\n",
      "INFO:tensorflow:Graph was finalized.\n",
      "INFO:tensorflow:Running local_init_op.\n",
      "INFO:tensorflow:Done running local_init_op.\n",
      "INFO:tensorflow:Graph was finalized.\n",
      "INFO:tensorflow:Running local_init_op.\n",
      "INFO:tensorflow:Done running local_init_op.\n",
      "INFO:tensorflow:Graph was finalized.\n",
      "INFO:tensorflow:Running local_init_op.\n",
      "INFO:tensorflow:Done running local_init_op.\n",
      "INFO:tensorflow:Graph was finalized.\n",
      "INFO:tensorflow:Running local_init_op.\n",
      "INFO:tensorflow:Done running local_init_op.\n",
      "INFO:tensorflow:Graph was finalized.\n",
      "INFO:tensorflow:Running local_init_op.\n",
      "INFO:tensorflow:Done running local_init_op.\n",
      "INFO:tensorflow:Graph was finalized.\n",
      "INFO:tensorflow:Running local_init_op.\n",
      "INFO:tensorflow:Done running local_init_op.\n",
      "INFO:tensorflow:Graph was finalized.\n",
      "INFO:tensorflow:Running local_init_op.\n",
      "INFO:tensorflow:Done running local_init_op.\n",
      "INFO:tensorflow:Graph was finalized.\n",
      "INFO:tensorflow:Running local_init_op.\n",
      "INFO:tensorflow:Done running local_init_op.\n"
     ]
    },
    {
     "ename": "NameError",
     "evalue": "name 'get_feature_extractor_model' is not defined",
     "output_type": "error",
     "traceback": [
      "\u001b[0;31m---------------------------------------------------------------------------\u001b[0m",
      "\u001b[0;31mNameError\u001b[0m                                 Traceback (most recent call last)",
      "\u001b[0;32m<ipython-input-5-a860fb4ebcbe>\u001b[0m in \u001b[0;36m<module>\u001b[0;34m\u001b[0m\n\u001b[1;32m     11\u001b[0m     \u001b[0mSpeakers\u001b[0m\u001b[0;34m.\u001b[0m\u001b[0mappend\u001b[0m\u001b[0;34m(\u001b[0m\u001b[0mSpeaker1\u001b[0m\u001b[0;34m)\u001b[0m\u001b[0;34m\u001b[0m\u001b[0m\n\u001b[1;32m     12\u001b[0m     \u001b[0mListeners\u001b[0m\u001b[0;34m.\u001b[0m\u001b[0mappend\u001b[0m\u001b[0;34m(\u001b[0m\u001b[0mListener1\u001b[0m\u001b[0;34m)\u001b[0m\u001b[0;34m\u001b[0m\u001b[0m\n\u001b[0;32m---> 13\u001b[0;31m \u001b[0mintermediate_layer_model\u001b[0m \u001b[0;34m=\u001b[0m \u001b[0mget_feature_extractor_model\u001b[0m\u001b[0;34m(\u001b[0m\u001b[0mfeat_model_path\u001b[0m\u001b[0;34m,\u001b[0m \u001b[0mfeature_model_json_path\u001b[0m\u001b[0;34m)\u001b[0m\u001b[0;34m\u001b[0m\u001b[0m\n\u001b[0m\u001b[1;32m     14\u001b[0m \u001b[0;34m\u001b[0m\u001b[0m\n\u001b[1;32m     15\u001b[0m \u001b[0mbig_rewards\u001b[0m \u001b[0;34m=\u001b[0m \u001b[0;34m[\u001b[0m\u001b[0;34m]\u001b[0m\u001b[0;34m\u001b[0m\u001b[0m\n",
      "\u001b[0;31mNameError\u001b[0m: name 'get_feature_extractor_model' is not defined"
     ]
    }
   ],
   "source": [
    "# Get data, prepare Agents, get feature extractor, initialize logging, create game pool\n",
    "\n",
    "X1, Y1, n_features = get_dummy_data(n_samples = 13000, n_features=n_features, centers=n_clusters)\n",
    "X1, X1_test, Y1, Y1_test = X1[:10000, :], X1[10000:, :], Y1[:10000], Y1[:10000]\n",
    "\n",
    "print(X1.shape, Y1.shape, X1_test.shape, Y1_test.shape)\n",
    "Speakers, Listeners = [], []\n",
    "\n",
    "for it in range(n_population):\n",
    "    Speaker1, Listener1 = get_agents(ppo_config, network_config, sender_type, n_features, img_dim, img_features_len, n_samples, num_actions, action_size)\n",
    "    Speakers.append(Speaker1)\n",
    "    Listeners.append(Listener1)\n",
    "# intermediate_layer_model = get_feature_extractor_model(feat_model_path, feature_model_json_path)\n",
    "\n",
    "big_rewards = []\n",
    "data = []\n",
    "game_pool = []\n",
    "\n",
    "for i in range(n_batches):\n",
    "    game_pool.append(Game(n_features, n_clusters, n_samples, n_vocab, sender_type, [X1, Y1]))\n",
    "\n",
    "\n"
   ]
  },
  {
   "cell_type": "code",
   "execution_count": null,
   "metadata": {},
   "outputs": [],
   "source": [
    "                                                                                                                                                "
   ]
  }
 ],
 "metadata": {
  "kernelspec": {
   "display_name": "Python 3.6",
   "language": "python",
   "name": "py3.6"
  },
  "language_info": {
   "codemirror_mode": {
    "name": "ipython",
    "version": 3
   },
   "file_extension": ".py",
   "mimetype": "text/x-python",
   "name": "python",
   "nbconvert_exporter": "python",
   "pygments_lexer": "ipython3",
   "version": "3.6.6"
  }
 },
 "nbformat": 4,
 "nbformat_minor": 2
}
